{
  "nbformat": 4,
  "nbformat_minor": 0,
  "metadata": {
    "colab": {
      "provenance": [],
      "authorship_tag": "ABX9TyMd3+alhI5PWYngf8gXeBAB",
      "include_colab_link": true
    },
    "kernelspec": {
      "name": "python3",
      "display_name": "Python 3"
    },
    "language_info": {
      "name": "python"
    }
  },
  "cells": [
    {
      "cell_type": "markdown",
      "metadata": {
        "id": "view-in-github",
        "colab_type": "text"
      },
      "source": [
        "<a href=\"https://colab.research.google.com/github/ma22asu/kaggle-challenge/blob/main/Kaggle_Project.ipynb\" target=\"_parent\"><img src=\"https://colab.research.google.com/assets/colab-badge.svg\" alt=\"Open In Colab\"/></a>"
      ]
    },
    {
      "cell_type": "code",
      "source": [
        "# Import necessary libraries\n",
        "import pandas as pd\n",
        "import seaborn as sns\n",
        "import matplotlib.pyplot as plt\n",
        "from sklearn.preprocessing import StandardScaler, LabelEncoder\n",
        "from sklearn.model_selection import train_test_split, GridSearchCV\n",
        "from sklearn.metrics import confusion_matrix, classification_report\n",
        "from sklearn.ensemble import RandomForestClassifier, GradientBoostingClassifier"
      ],
      "metadata": {
        "id": "15hhDnCOLQxn"
      },
      "execution_count": null,
      "outputs": []
    },
    {
      "cell_type": "code",
      "source": [
        "train_df = pd.read_csv('https://raw.githubusercontent.com/7PAM2015-0509-2023-group-23/kaggle-challenge/main/train.csv')\n",
        "test_df = pd.read_csv('https://raw.githubusercontent.com/7PAM2015-0509-2023-group-23/kaggle-challenge/main/test.csv')\n",
        "\n",
        "# Display the first few rows of the training dataset\n",
        "train_df.head()"
      ],
      "metadata": {
        "id": "2DtBoFvgLkDB"
      },
      "execution_count": null,
      "outputs": []
    },
    {
      "cell_type": "code",
      "execution_count": null,
      "metadata": {
        "id": "X385kHLAJnGV"
      },
      "outputs": [],
      "source": [
        "train_df.fillna(method='ffill', inplace=True)\n",
        "test_df.fillna(method='ffill', inplace=True)"
      ]
    },
    {
      "cell_type": "code",
      "source": [
        "# Combine training and test sets\n",
        "combined_df = pd.concat([train_df, test_df], sort=False)\n",
        "\n",
        "# Encode categorical variables\n",
        "le = LabelEncoder()\n",
        "for column in ['HomePlanet', 'Destination', 'Cabin', 'Name']:\n",
        "    combined_df[column] = le.fit_transform(combined_df[column].astype(str))\n",
        "\n",
        "# Split the combined dataset back into training and test sets\n",
        "train_df = combined_df.iloc[:len(train_df), :]\n",
        "test_df = combined_df.iloc[len(train_df):, :]\n",
        "\n",
        "# Verify the encoding\n",
        "print(train_df.head())\n",
        "print(test_df.head())"
      ],
      "metadata": {
        "id": "XaBH9rB9L2Y3"
      },
      "execution_count": null,
      "outputs": []
    }
  ]
}